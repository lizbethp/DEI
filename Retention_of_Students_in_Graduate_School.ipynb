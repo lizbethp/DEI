{
 "cells": [
  {
   "cell_type": "code",
   "execution_count": 3,
   "id": "5eaf1e3f",
   "metadata": {},
   "outputs": [],
   "source": [
    "#libraries\n",
    "from bs4 import BeautifulSoup as soup  # HTML data structure\n",
    "from urllib.request import urlopen as uReq  # Web client"
   ]
  },
  {
   "cell_type": "code",
   "execution_count": 42,
   "id": "e022da1e",
   "metadata": {},
   "outputs": [],
   "source": [
    "my_url = \"https://www.info.iastate.edu/individuals/advanced?last_name=&first_name=&email=&department=Agricultural%20%26%20Biosystems%20Engineering&individual_type=students\" #ISU Directory w ABE search page 1/11"
   ]
  },
  {
   "cell_type": "code",
   "execution_count": 43,
   "id": "f4199d99",
   "metadata": {
    "scrolled": true
   },
   "outputs": [
    {
     "data": {
      "text/plain": [
       "'https://www.info.iastate.edu/individuals/advanced?last_name=&first_name=&email=&department=Agricultural%20%26%20Biosystems%20Engineering&individual_type=students'"
      ]
     },
     "execution_count": 43,
     "metadata": {},
     "output_type": "execute_result"
    }
   ],
   "source": [
    "my_url"
   ]
  },
  {
   "cell_type": "code",
   "execution_count": 44,
   "id": "c9b185f5",
   "metadata": {},
   "outputs": [],
   "source": [
    "uClient = uReq(my_url)\n",
    "page_html = uClient.read()\n",
    "uClient.close()"
   ]
  },
  {
   "cell_type": "code",
   "execution_count": 45,
   "id": "8009ec6c",
   "metadata": {},
   "outputs": [],
   "source": [
    "page_soup = soup(page_html,\"html.parser\")"
   ]
  },
  {
   "cell_type": "code",
   "execution_count": 46,
   "id": "04963736",
   "metadata": {},
   "outputs": [
    {
     "data": {
      "text/plain": [
       "<p>Ames, Iowa 50011, (515) 294-4111, <a href=\"http://www.iastate.edu/contact/\">Contact Us</a>.</p>"
      ]
     },
     "execution_count": 46,
     "metadata": {},
     "output_type": "execute_result"
    }
   ],
   "source": [
    "page_soup.p"
   ]
  },
  {
   "cell_type": "code",
   "execution_count": 47,
   "id": "50a29269",
   "metadata": {},
   "outputs": [
    {
     "data": {
      "text/plain": [
       "<h1>Advanced Search</h1>"
      ]
     },
     "execution_count": 47,
     "metadata": {},
     "output_type": "execute_result"
    }
   ],
   "source": [
    "page_soup.h1"
   ]
  },
  {
   "cell_type": "code",
   "execution_count": 48,
   "id": "fda32b7d",
   "metadata": {},
   "outputs": [
    {
     "data": {
      "text/plain": [
       "[<span class=\"dir-Listing-item-name\">Adams, Bailey Jace</span>,\n",
       " <span class=\"dir-Listing-item-name\">Akoto, Esther Yeboah</span>,\n",
       " <span class=\"dir-Listing-item-name\">Alkhalifa, Nisreen</span>,\n",
       " <span class=\"dir-Listing-item-name\">Alt, Laura Marie</span>,\n",
       " <span class=\"dir-Listing-item-name\">Barker, Reid William</span>,\n",
       " <span class=\"dir-Listing-item-name\">Benjamin, Remon N</span>,\n",
       " <span class=\"dir-Listing-item-name\">Bethany, Chase Maloy</span>,\n",
       " <span class=\"dir-Listing-item-name\">Bouwman, Elijah L</span>,\n",
       " <span class=\"dir-Listing-item-name\">Branstad, Emily Hannele</span>,\n",
       " <span class=\"dir-Listing-item-name\">Buseman, Adam R</span>,\n",
       " <span class=\"dir-Listing-item-name\">Carey, Grace</span>,\n",
       " <span class=\"dir-Listing-item-name\">Chen, Hong</span>,\n",
       " <span class=\"dir-Listing-item-name\">Chikez, Hory Bakand</span>,\n",
       " <span class=\"dir-Listing-item-name\">De Mattos Brittes, Julia</span>,\n",
       " <span class=\"dir-Listing-item-name\">Del Campo, Bernardo G</span>,\n",
       " <span class=\"dir-Listing-item-name\">Devitt, Olivia Lajune</span>,\n",
       " <span class=\"dir-Listing-item-name\">Dolphin, Chad Joseph</span>,\n",
       " <span class=\"dir-Listing-item-name\">Gallolu Kankanamalage, R</span>,\n",
       " <span class=\"dir-Listing-item-name\">Ganesa Moorthy, Kirshanthi</span>,\n",
       " <span class=\"dir-Listing-item-name\">Gannon, Bradley Thomas</span>]"
      ]
     },
     "execution_count": 48,
     "metadata": {},
     "output_type": "execute_result"
    }
   ],
   "source": [
    "page_soup.findAll(\"span\", {\"class\":\"dir-Listing-item-name\"})"
   ]
  },
  {
   "cell_type": "code",
   "execution_count": 49,
   "id": "81a7ea15",
   "metadata": {},
   "outputs": [],
   "source": [
    "name_list = page_soup.findAll(\"span\", {\"class\":\"dir-Listing-item-name\"})"
   ]
  },
  {
   "cell_type": "code",
   "execution_count": 50,
   "id": "01f7c8e8",
   "metadata": {},
   "outputs": [
    {
     "data": {
      "text/plain": [
       "'Adams, Bailey Jace'"
      ]
     },
     "execution_count": 50,
     "metadata": {},
     "output_type": "execute_result"
    }
   ],
   "source": [
    "name_list[0].string"
   ]
  },
  {
   "cell_type": "code",
   "execution_count": null,
   "id": "d80270ba",
   "metadata": {},
   "outputs": [],
   "source": []
  },
  {
   "cell_type": "code",
   "execution_count": null,
   "id": "e8cea3e3",
   "metadata": {},
   "outputs": [],
   "source": []
  },
  {
   "cell_type": "code",
   "execution_count": null,
   "id": "276af935",
   "metadata": {},
   "outputs": [],
   "source": []
  },
  {
   "cell_type": "code",
   "execution_count": null,
   "id": "a216d312",
   "metadata": {},
   "outputs": [],
   "source": []
  }
 ],
 "metadata": {
  "kernelspec": {
   "display_name": "Python 3",
   "language": "python",
   "name": "python3"
  },
  "language_info": {
   "codemirror_mode": {
    "name": "ipython",
    "version": 3
   },
   "file_extension": ".py",
   "mimetype": "text/x-python",
   "name": "python",
   "nbconvert_exporter": "python",
   "pygments_lexer": "ipython3",
   "version": "3.8.8"
  }
 },
 "nbformat": 4,
 "nbformat_minor": 5
}
